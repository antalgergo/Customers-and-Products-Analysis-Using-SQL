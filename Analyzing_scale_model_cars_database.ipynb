{
 "cells": [
  {
   "cell_type": "markdown",
   "metadata": {},
   "source": [
    "# Customers and Products Analysis Using SQL"
   ]
  },
  {
   "cell_type": "markdown",
   "metadata": {},
   "source": [
    "The goal of this project is to analyze data from a sales records database for scale model cars and extract information for decision-making.\n",
    "\n",
    "During this project I searched for the answers for the following questions:\n",
    "- Which products should we order more of or less of?\n",
    "- How should we tailor marketing and communication strategies to customer behaviors?\n",
    "- How much can we spend on acquiring new customers?\n",
    "\n",
    "Before of all, I needed to analyze the structure of database and what informations are contained in the tables.\n",
    "\n",
    "Database contains 8 tables in all and their brief description and their links are below:\n",
    "- customers: customer data\n",
    "\t- PK: customerNumber\n",
    "\t- FK: salesRepEmployeeNumber --> employees (employeeNumber)\n",
    "- employees: all employee information\n",
    "\t- PK: employeeNumber\n",
    "\t- FK: reportsTo --> employees (employeeNumber), officeCode --> offices (officeCode)\n",
    "\t\t\n",
    "- offices: sales office information\n",
    "\t- PK: officeCode\n",
    "\t\t\n",
    "- orders: customers' sales orders\n",
    "\t- PK: orderNumber\n",
    "\t- FK: customerNumber --> customers (customerNumber)\n",
    "\t\t\n",
    "- orderDetails: sales order line for each sales order\n",
    "\t- PK: orderNumber, productCode\n",
    "\t- FK: orderNumber --> orders (orderNumber),  productCode --> products (productCode)\n",
    "\t\t\n",
    "- payments: customers' payment records\n",
    "\t- PK: customerNumber, checkNumber\n",
    "\t- FK: customerNumber --> customers (customerNumber)\n",
    "\t\t\n",
    "- products: a list of scale model cars\n",
    "\t- PK: productCode\n",
    "\t- FK: productLine --> productlines(productLine)\n",
    "\t\t\n",
    "- productlines: a list of product line categories\n",
    "\t- PK: productLine"
   ]
  },
  {
   "cell_type": "markdown",
   "metadata": {},
   "source": [
    "The following query showing number of rows and number of attributes of each table."
   ]
  },
  {
   "cell_type": "code",
   "execution_count": null,
   "metadata": {
    "vscode": {
     "languageId": "sql"
    }
   },
   "outputs": [],
   "source": [
    "SELECT \"Customers\" AS table_name,\n",
    "\t\t\t\t(SELECT COUNT(*)\n",
    "\t\t\t\t\tFROM pragma_table_info('customers')) AS number_of_attributes,\n",
    "\t\t\t\tCOUNT(*) AS number_of_rows\n",
    "  FROM customers\n",
    "\n",
    "UNION ALL\n",
    "\n",
    "SELECT \"Products\" AS table_name,\n",
    "\t\t\t\t(SELECT COUNT(*)\n",
    "\t\t\t\t\tFROM pragma_table_info('products')) AS number_of_attributes,\n",
    "\t\t\t\tCOUNT(*) AS number_of_rows\n",
    "  FROM products\n",
    "  \n",
    "UNION ALL\n",
    "\n",
    "SELECT \"ProductLines\" AS table_name,\n",
    "\t\t\t\t(SELECT COUNT(*)\n",
    "\t\t\t\t\tFROM pragma_table_info('productlines')) AS number_of_attributes,\n",
    "\t\t\t\tCOUNT(*) AS number_of_rows\n",
    "  FROM productlines\n",
    "  \n",
    "UNION ALL\n",
    "\n",
    "SELECT \"Orders\" AS table_name,\n",
    "\t\t\t\t(SELECT COUNT(*)\n",
    "\t\t\t\t\tFROM pragma_table_info('orders')) AS number_of_attributes,\n",
    "\t\t\t\tCOUNT(*) AS number_of_rows\n",
    "  FROM Orders\n",
    "  \n",
    "UNION ALL\n",
    "\n",
    "SELECT \"OrderDetails\" AS table_name,\n",
    "\t\t\t\t(SELECT COUNT(*)\n",
    "\t\t\t\t\tFROM pragma_table_info('orderdetails')) AS number_of_attributes,\n",
    "\t\t\t\tCOUNT(*) AS number_of_rows\n",
    "  FROM orderdetails\n",
    "  \n",
    "UNION ALL\n",
    "\n",
    "SELECT \"Payments\" AS table_name,\n",
    "\t\t\t\t(SELECT COUNT(*)\n",
    "\t\t\t\t\tFROM pragma_table_info('payments')) AS number_of_attributes,\n",
    "\t\t\t\tCOUNT(*) AS number_of_rows\n",
    "  FROM payments\n",
    "  \n",
    "UNION ALL\n",
    "\n",
    "SELECT \"Employees\" AS table_name,\n",
    "\t\t\t\t(SELECT COUNT(*)\n",
    "\t\t\t\t\tFROM pragma_table_info('employees')) AS number_of_attributes,\n",
    "\t\t\t\tCOUNT(*) AS number_of_rows\n",
    "  FROM employees\n",
    "  \n",
    "UNION ALL\n",
    "\n",
    "SELECT \"Offices\" AS table_name,\n",
    "\t\t\t\t(SELECT COUNT(*)\n",
    "\t\t\t\t\tFROM pragma_table_info('offices')) AS number_of_attributes,\n",
    "\t\t\t\tCOUNT(*) AS number_of_rows\n",
    "  FROM offices\t"
   ]
  },
  {
   "cell_type": "raw",
   "metadata": {},
   "source": [
    "table_name      number_of_attributes  number_of_rows  \n",
    "Customers\t    13\t                  122\n",
    "Products\t    9\t                  110\n",
    "ProductLines\t4\t                  7\n",
    "Orders\t        7\t                  326\n",
    "OrderDetails\t5\t                  2996\n",
    "Payments\t    4\t                  273\n",
    "Employees\t    8                     23\n",
    "Offices\t        9\t                  7"
   ]
  },
  {
   "cell_type": "markdown",
   "metadata": {},
   "source": [
    "### Question 1"
   ]
  },
  {
   "cell_type": "markdown",
   "metadata": {},
   "source": [
    "After analyzing structure of database I started answering the questions.\n",
    "I have looked for products which are ordered more frequently because this help to optimize the supply and user experience by preventing that products from running out-of-stock. \n",
    "\n",
    "I have researched for two indicators in this question:\n",
    "- `low stock` which represents that products that are almost or completely runned out-of-stock. This is can computed by sum of each product ordered divided by the quantity of product in stock\n",
    "- `product performance` represents the sum of sales per products\n",
    "\n",
    "Need to restocking products which have high product performance and close to running out-of-stock (prioritized products)."
   ]
  },
  {
   "cell_type": "code",
   "execution_count": null,
   "metadata": {
    "vscode": {
     "languageId": "sql"
    }
   },
   "outputs": [],
   "source": [
    "-- Computing the low stock ratio per product (top 10)\n",
    "SELECT od.productCode,\n",
    "       (SELECT ROUND(SUM(od.quantityOrdered)*1.0 / pr.quantityInStock, 2)\n",
    "          FROM products AS pr\n",
    "         WHERE pr.productCode = od.productCode) AS low_stock\n",
    "  FROM orderdetails AS od\n",
    " GROUP BY od.productCode\n",
    " ORDER BY low_stock DESC\n",
    " LIMIT 10"
   ]
  },
  {
   "cell_type": "raw",
   "metadata": {},
   "source": [
    "productCode low_stock\n",
    "S24_2000\t67.67\n",
    "S12_1099\t13.72\n",
    "S32_4289\t7.15\n",
    "S32_1374\t5.7\n",
    "S72_3212\t2.31\n",
    "S700_3167\t1.9\n",
    "S50_4713\t1.65\n",
    "S18_2795\t1.61\n",
    "S18_2248\t1.54\n",
    "S700_1938\t1.22"
   ]
  },
  {
   "cell_type": "code",
   "execution_count": null,
   "metadata": {
    "vscode": {
     "languageId": "sql"
    }
   },
   "outputs": [],
   "source": [
    "-- Computing the performance indicator per product (top 10)\n",
    "SELECT productCode,\n",
    "       ROUND(SUM(quantityOrdered * priceEach), 2) AS product_performance\n",
    "  FROM orderdetails\n",
    " GROUP BY productCode\n",
    " ORDER BY product_performance DESC\n",
    " LIMIT 10"
   ]
  },
  {
   "cell_type": "raw",
   "metadata": {},
   "source": [
    "productCode product_performance\n",
    "S18_3232\t276839.98\n",
    "S12_1108\t190755.86\n",
    "S10_1949\t190017.96\n",
    "S10_4698\t170686\n",
    "S12_1099\t161531.48\n",
    "S12_3891\t152543.02\n",
    "S18_1662\t144959.91\n",
    "S18_2238\t142530.63\n",
    "S18_1749\t140535.6\n",
    "S12_2823\t135767.03"
   ]
  },
  {
   "cell_type": "markdown",
   "metadata": {},
   "source": [
    "I have combined the two queries above using with Common Table Expression and I have used them in two select then I stacked to get the prioritized products for restocking."
   ]
  },
  {
   "cell_type": "code",
   "execution_count": null,
   "metadata": {
    "vscode": {
     "languageId": "sql"
    }
   },
   "outputs": [],
   "source": [
    "WITH\n",
    "top10_low_stock AS (\n",
    "SELECT od.productCode,\n",
    "       (SELECT ROUND(SUM(od.quantityOrdered)*1.0 / pr.quantityInStock, 2)\n",
    "          FROM products AS pr\n",
    "         WHERE pr.productCode = od.productCode) AS low_stock\n",
    "  FROM orderdetails AS od\n",
    " GROUP BY od.productCode\n",
    " ORDER BY low_stock DESC\n",
    " LIMIT 10\n",
    "),\n",
    "\n",
    "top10_prod_performance AS (\n",
    "SELECT productCode,\n",
    "       ROUND(SUM(quantityOrdered * priceEach), 2) AS product_performance\n",
    "  FROM orderdetails\n",
    " GROUP BY productCode\n",
    " ORDER BY product_performance DESC\n",
    " LIMIT 10\n",
    ")\n",
    "\n",
    "SELECT productName, productLine\n",
    "  FROM products\n",
    " WHERE productCode IN (SELECT productCode\n",
    "                         FROM top10_prod_performance) \n",
    "                         \n",
    "UNION ALL\n",
    "                         \n",
    "SELECT productName, productLine\n",
    "  FROM products\n",
    " WHERE productCode IN (SELECT productCode\n",
    "                         FROM top10_low_stock) \n",
    " LIMIT 10"
   ]
  },
  {
   "cell_type": "raw",
   "metadata": {},
   "source": [
    "productName                             productLine\n",
    "1952 Alpine Renault 1300\t            Classic Cars\n",
    "2003 Harley-Davidson Eagle Drag Bike\tMotorcycles\n",
    "1968 Ford Mustang\t                    Classic Cars\n",
    "2001 Ferrari Enzo\t                    Classic Cars\n",
    "2002 Suzuki XREO\t                    Motorcycles\n",
    "1969 Ford Falcon\t                    Classic Cars\n",
    "1980s Black Hawk Helicopter\t            Planes\n",
    "1917 Grand Touring Sedan\t            Vintage Cars\n",
    "1998 Chrysler Plymouth Prowler\t        Classic Cars\n",
    "1992 Ferrari 360 Spider red\t            Classic Cars"
   ]
  },
  {
   "cell_type": "markdown",
   "metadata": {},
   "source": [
    "### Question 2"
   ]
  },
  {
   "cell_type": "markdown",
   "metadata": {},
   "source": [
    "In the next question I have investigated that how we can tailor for our customers the marketing strategy based on their behavior. For this I have explored the customers' information and categorized them into two category: \n",
    "\n",
    "- `VIP`s who bringing more profig for the store, and\n",
    "- `Less-engaged` customers who bringing less profit\n",
    "\n",
    "For this investigation I have used the following three tables:\n",
    "- products\n",
    "- orderdetails\n",
    "- orders\n",
    "\n",
    "In the first query inside this question I have gathered information about profits which are generated by customers."
   ]
  },
  {
   "cell_type": "code",
   "execution_count": null,
   "metadata": {
    "vscode": {
     "languageId": "sql"
    }
   },
   "outputs": [],
   "source": [
    "SELECT o.customerNumber AS customer_num,\n",
    "       SUM(od.quantityOrdered * (od.priceEach - pr.buyPrice)) as profit\n",
    "  FROM products AS pr\n",
    "  JOIN orderdetails AS od\n",
    "    ON pr.productCode = od.productCode\n",
    "  JOIN orders AS o\n",
    "    ON od.orderNumber = o.orderNumber\n",
    " GROUP BY o.customerNumber\n",
    " ORDER BY profit DESC"
   ]
  },
  {
   "cell_type": "markdown",
   "metadata": {},
   "source": [
    "The output of the query here is below (just the first ten rows are showing)"
   ]
  },
  {
   "cell_type": "raw",
   "metadata": {},
   "source": [
    "customer_num  profit\n",
    "141           326519.66\n",
    "124\t          236769.39\n",
    "151\t          72370.09\n",
    "114\t          70311.07\n",
    "119\t          60875.3\n",
    "148\t          60477.38\n",
    "187\t          60095.86\n",
    "323\t          60013.99\n",
    "131\t          58669.1\n",
    "450\t          55931.37"
   ]
  },
  {
   "cell_type": "markdown",
   "metadata": {},
   "source": [
    "After it I have listed the top 5 VIP customers with help of the previous query as CTE, based on profit."
   ]
  },
  {
   "cell_type": "code",
   "execution_count": null,
   "metadata": {
    "vscode": {
     "languageId": "sql"
    }
   },
   "outputs": [],
   "source": [
    "WITH \n",
    "-- CTE to profit per customer\n",
    "profit_per_customer AS (\n",
    "SELECT o.customerNumber, SUM(quantityOrdered * (priceEach - buyPrice)) AS profit\n",
    "  FROM products p\n",
    "  JOIN orderdetails od\n",
    "    ON p.productCode = od.productCode\n",
    "  JOIN orders o\n",
    "    ON o.orderNumber = od.orderNumber\n",
    " GROUP BY o.customerNumber\n",
    ")\n",
    "\n",
    "SELECT c.contactLastName AS lastname, c.contactFirstName AS firstname, c.city, c.country, ppc.profit\n",
    "  FROM customers AS c\n",
    "  JOIN profit_per_customer AS ppc\n",
    "    ON c.customerNumber = ppc.customerNumber\n",
    " ORDER BY ppc.profit DESC\n",
    " LIMIT 5"
   ]
  },
  {
   "cell_type": "raw",
   "metadata": {},
   "source": [
    "lastname    firstname   city        country     profit\n",
    "Freyre\t    Diego \t    Madrid\t    Spain\t    326519.66\n",
    "Nelson\t    Susan\t    San Rafael\tUSA\t        236769.39\n",
    "Young\t    Jeff\t    NYC\t        USA\t        72370.09\n",
    "Ferguson\tPeter\t    Melbourne\tAustralia\t70311.07\n",
    "Labrune\t    Janine \t    Nantes\t    France\t    60875.3"
   ]
  },
  {
   "cell_type": "markdown",
   "metadata": {},
   "source": [
    "And similar to this, I have listed the 'top 5' least-engaged customers by just changed the order in the main query."
   ]
  },
  {
   "cell_type": "code",
   "execution_count": null,
   "metadata": {
    "vscode": {
     "languageId": "sql"
    }
   },
   "outputs": [],
   "source": [
    "-- CTE as in the previous query\n",
    "\n",
    "-- Main query with ascending order\n",
    "SELECT c.contactLastName AS lastname, \n",
    "       c.contactFirstName AS first_name,\n",
    "       c.city, c.country, ppc.profit\n",
    "  FROM customers AS c\n",
    "  JOIN profit_per_customer AS ppc\n",
    "    ON c.customerNumber = ppc.customerNumber\n",
    " ORDER BY ppc.profit\n",
    " LIMIT 5"
   ]
  },
  {
   "cell_type": "raw",
   "metadata": {},
   "source": [
    "lastname    firstname   city        country     profit\n",
    "Young\t    Mary\t    Glendale\tUSA\t        2610.87\n",
    "Taylor\t    Leslie\t    Brickhaven\tUSA\t        6586.02\n",
    "Ricotti\t    Franco\t    Milan\t    Italy\t    9532.93\n",
    "Schmitt\t    Carine \t    Nantes\t    France\t    10063.8\n",
    "Smith\t    Thomas \t    London\t    UK\t        10868.04"
   ]
  },
  {
   "cell_type": "markdown",
   "metadata": {},
   "source": [
    "### Question 3"
   ]
  },
  {
   "cell_type": "markdown",
   "metadata": {},
   "source": [
    "With this question I was looking for the answer how much money needed to spend to acquiring more new customers. For this I needed to compute the `Customer Lifetime Value` (LTV) which means the avergae amount of profit genereted by customer. After it it can be determine the marketing cost."
   ]
  },
  {
   "cell_type": "code",
   "execution_count": null,
   "metadata": {
    "vscode": {
     "languageId": "sql"
    }
   },
   "outputs": [],
   "source": [
    "WITH \n",
    "-- As the same CTE which used before\n",
    "profit_per_customer AS (\n",
    "SELECT o.customerNumber, SUM(quantityOrdered * (priceEach - buyPrice)) AS profit\n",
    "  FROM products p\n",
    "  JOIN orderdetails od\n",
    "    ON p.productCode = od.productCode\n",
    "  JOIN orders o\n",
    "    ON o.orderNumber = od.orderNumber\n",
    " GROUP BY o.customerNumber\n",
    ")\n",
    "\n",
    "-- Computing the average profit by customers\n",
    "SELECT ROUND(AVG(ppc.profit), 2) AS ltv\n",
    "  FROM profit_per_customer AS ppc"
   ]
  },
  {
   "cell_type": "raw",
   "metadata": {},
   "source": [
    "ltv\n",
    "39039.59"
   ]
  },
  {
   "cell_type": "markdown",
   "metadata": {},
   "source": [
    "According to the query result `the profit` which the customers bringing `in average is 39039.59`.\n",
    "Now that we know how much profit bringing by customers in average it can be computable how much money needed to cost acquiring new customers and need to spend on marketing."
   ]
  },
  {
   "cell_type": "markdown",
   "metadata": {},
   "source": [
    "### Conclusion"
   ]
  },
  {
   "cell_type": "markdown",
   "metadata": {},
   "source": [
    "We can see the most performance products and that the Classic cars need to restocking because they are most frequently sell. Furthermore the knowledge about most-important and less-committed help us to drive the loyality and attract more customers. It can be imporve the marketing strategy. And finally it can be determine how much cost need to marketing to we can gain more new customers by knowing the average profit by them."
   ]
  }
 ],
 "metadata": {
  "language_info": {
   "name": "python"
  }
 },
 "nbformat": 4,
 "nbformat_minor": 2
}
